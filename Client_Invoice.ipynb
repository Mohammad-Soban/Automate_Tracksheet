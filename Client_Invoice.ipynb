{
 "cells": [
  {
   "cell_type": "code",
   "execution_count": 3,
   "metadata": {},
   "outputs": [],
   "source": [
    "# !pip install xlsxwriter\n",
    "!pip install pandas\n",
    "!pip install numpy"
   ]
  },
  {
   "cell_type": "code",
   "execution_count": 1,
   "metadata": {},
   "outputs": [],
   "source": [
    "import pandas as pd\n",
    "import numpy as np"
   ]
  },
  {
   "cell_type": "code",
   "execution_count": 2,
   "metadata": {},
   "outputs": [],
   "source": [
    "# Path to your Excel file\n",
    "original_excel_file = './November/Nov.xls'\n",
    "\n",
    "# Path to your new Excel file\n",
    "new_excel_file = './November/Nov_Client_Invoice.xls'"
   ]
  },
  {
   "cell_type": "code",
   "execution_count": 3,
   "metadata": {},
   "outputs": [
    {
     "name": "stderr",
     "output_type": "stream",
     "text": [
      "C:\\Users\\Mohammad Soban\\AppData\\Local\\Temp\\ipykernel_20328\\2993780404.py:15: FutureWarning: The behavior of DataFrame concatenation with empty or all-NA entries is deprecated. In a future version, this will no longer exclude empty or all-NA columns when determining the result dtypes. To retain the old behavior, exclude the relevant entries before the concat operation.\n",
      "  df.loc['Total'] = pd.Series(df['Line Count'].sum(), index=['Line Count'])\n",
      "C:\\Users\\Mohammad Soban\\AppData\\Local\\Temp\\ipykernel_20328\\2993780404.py:15: FutureWarning: The behavior of DataFrame concatenation with empty or all-NA entries is deprecated. In a future version, this will no longer exclude empty or all-NA columns when determining the result dtypes. To retain the old behavior, exclude the relevant entries before the concat operation.\n",
      "  df.loc['Total'] = pd.Series(df['Line Count'].sum(), index=['Line Count'])\n",
      "C:\\Users\\Mohammad Soban\\AppData\\Local\\Temp\\ipykernel_20328\\2993780404.py:15: FutureWarning: The behavior of DataFrame concatenation with empty or all-NA entries is deprecated. In a future version, this will no longer exclude empty or all-NA columns when determining the result dtypes. To retain the old behavior, exclude the relevant entries before the concat operation.\n",
      "  df.loc['Total'] = pd.Series(df['Line Count'].sum(), index=['Line Count'])\n",
      "C:\\Users\\Mohammad Soban\\AppData\\Local\\Temp\\ipykernel_20328\\2993780404.py:15: FutureWarning: The behavior of DataFrame concatenation with empty or all-NA entries is deprecated. In a future version, this will no longer exclude empty or all-NA columns when determining the result dtypes. To retain the old behavior, exclude the relevant entries before the concat operation.\n",
      "  df.loc['Total'] = pd.Series(df['Line Count'].sum(), index=['Line Count'])\n",
      "C:\\Users\\Mohammad Soban\\AppData\\Local\\Temp\\ipykernel_20328\\2993780404.py:15: FutureWarning: The behavior of DataFrame concatenation with empty or all-NA entries is deprecated. In a future version, this will no longer exclude empty or all-NA columns when determining the result dtypes. To retain the old behavior, exclude the relevant entries before the concat operation.\n",
      "  df.loc['Total'] = pd.Series(df['Line Count'].sum(), index=['Line Count'])\n"
     ]
    }
   ],
   "source": [
    "# List of selected columns you want to keep\n",
    "selected_columns = ['VoiceFile Name', 'Document Name', 'Doctor', 'DOS', 'Line Count', 'Remarks']\n",
    "\n",
    "# Read all sheets into a dictionary\n",
    "all_sheets = pd.read_excel(original_excel_file, sheet_name=None)\n",
    "\n",
    "# Create a new Excel writer\n",
    "with pd.ExcelWriter(new_excel_file, engine='xlsxwriter') as writer:\n",
    "    # Iterate through each sheet\n",
    "    # Iterate through each sheet\n",
    "    for sheet_name, df in all_sheets.items():\n",
    "        # Check if 'Line Count' column exists in the DataFrame\n",
    "        if 'Line Count' in df.columns:\n",
    "            #F ind the sum of the column 'Line Count' for each sheet and append it to column 'Line Count' in the sheet at the end\n",
    "            df.loc['Total'] = pd.Series(df['Line Count'].sum(), index=['Line Count'])\n",
    "\n",
    "            # Ensure all selected columns are present in the DataFrame\n",
    "            if all(col in df.columns for col in selected_columns):\n",
    "                # Handle invalid date formats\n",
    "                try:\n",
    "                    # Replace invalid date values with NaN\n",
    "                    df['DOS'] = pd.to_datetime(df['DOS'], errors='coerce').dt.strftime('%m/%d/%Y')\n",
    "                    # Making the Line Count column round off to 2 decimal places\n",
    "                except pd.errors.ParserError as e:\n",
    "                    print(f\"Skipping sheet '{sheet_name}' due to {e}\")\n",
    "\n",
    "                # Select only the desired columns\n",
    "                selected_df = df[selected_columns]\n",
    "\n",
    "                # Write the selected DataFrame to the new workbook\n",
    "                selected_df.to_excel(writer, sheet_name=sheet_name, index=False)\n",
    "            else:\n",
    "                print(f\"Skipping sheet '{sheet_name}' due to missing columns.\")\n",
    "        else:\n",
    "            print(f\"Skipping sheet '{sheet_name}' due to missing 'Line Count' column.\")"
   ]
  },
  {
   "cell_type": "code",
   "execution_count": 21,
   "metadata": {},
   "outputs": [
    {
     "data": {
      "text/plain": [
       "dict"
      ]
     },
     "execution_count": 21,
     "metadata": {},
     "output_type": "execute_result"
    }
   ],
   "source": []
  }
 ],
 "metadata": {
  "kernelspec": {
   "display_name": "Python 3",
   "language": "python",
   "name": "python3"
  },
  "language_info": {
   "codemirror_mode": {
    "name": "ipython",
    "version": 3
   },
   "file_extension": ".py",
   "mimetype": "text/x-python",
   "name": "python",
   "nbconvert_exporter": "python",
   "pygments_lexer": "ipython3",
   "version": "3.10.6"
  }
 },
 "nbformat": 4,
 "nbformat_minor": 2
}
