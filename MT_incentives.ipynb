{
 "cells": [
  {
   "cell_type": "code",
   "execution_count": 9,
   "metadata": {},
   "outputs": [],
   "source": [
    "import pandas as pd\n",
    "import xlwt\n",
    "import openpyxl\n",
    "import numpy as np\n",
    "import csv"
   ]
  },
  {
   "cell_type": "code",
   "execution_count": 10,
   "metadata": {},
   "outputs": [],
   "source": [
    "# Path to your Excel file\n",
    "original_excel_file = './August_2024/august.xls'\n",
    "\n",
    "# Path to your new Excel file\n",
    "new_excel_file = './August_2024/august_middle_1.xls'"
   ]
  },
  {
   "cell_type": "code",
   "execution_count": 11,
   "metadata": {},
   "outputs": [],
   "source": [
    "df = pd.read_excel(original_excel_file, sheet_name=None)\n",
    "all_sheets = pd.read_excel(original_excel_file, sheet_name=None)"
   ]
  },
  {
   "cell_type": "code",
   "execution_count": 12,
   "metadata": {},
   "outputs": [],
   "source": [
    "# To check wheteher every sheet is read or not\n",
    "# # Print columns for each sheet\n",
    "# for sheet_name, df in all_sheets.items():\n",
    "#     print(f\"Sheet: {sheet_name}\")\n",
    "\n",
    "# # Print the first 5 rows for each sheet\n",
    "# for sheet_name, df in all_sheets.items():\n",
    "#     print(f\"Sheet: {sheet_name}\")"
   ]
  },
  {
   "cell_type": "code",
   "execution_count": 13,
   "metadata": {},
   "outputs": [],
   "source": [
    "# Remove all the rows in the dataframe which contains np.nan in the column \"Transcribed By\"\n",
    "for sheet_name, df in all_sheets.items():\n",
    "    # Check if 'Transcribed By' column exists in the DataFrame\n",
    "    if 'Transcribed By' in df.columns:\n",
    "        df.dropna(subset=['Transcribed By'], inplace=True)\n",
    "    else:\n",
    "        print(f\"Skipping sheet '{sheet_name}' due to missing 'Transcribed By' column.\")"
   ]
  },
  {
   "cell_type": "code",
   "execution_count": 14,
   "metadata": {},
   "outputs": [
    {
     "name": "stdout",
     "output_type": "stream",
     "text": [
      "{'HS', 'PS', 'RM'}\n"
     ]
    }
   ],
   "source": [
    "# Create a new empty set and store the first 2 characters of each unique value in the Transcribed By column from every sheet\n",
    "unique_values_2 = set()\n",
    "\n",
    "try: \n",
    "    for sheet_name, df in all_sheets.items():\n",
    "        unique_values_2.update(df['Transcribed By'].str[:2].unique())\n",
    "    print(unique_values_2)\n",
    "\n",
    "except AttributeError:\n",
    "    print(f\"Error occured in {sheet_name}\")"
   ]
  },
  {
   "cell_type": "code",
   "execution_count": 15,
   "metadata": {},
   "outputs": [],
   "source": [
    "columns = [\"VoiceFile Name\", \"Document Name\", \"DOB\", \"Doctor\", \"Date on FTP\", \"Download Date\", \"DOS\", \"Transcribe Date\", \"Transcribed By\", \"Line Count\"]"
   ]
  },
  {
   "cell_type": "code",
   "execution_count": 16,
   "metadata": {},
   "outputs": [
    {
     "name": "stderr",
     "output_type": "stream",
     "text": [
      "C:\\Users\\Mohammad Soban\\AppData\\Local\\Temp\\ipykernel_19608\\4230829842.py:26: FutureWarning: The behavior of DataFrame concatenation with empty or all-NA entries is deprecated. In a future version, this will no longer exclude empty or all-NA columns when determining the result dtypes. To retain the old behavior, exclude the relevant entries before the concat operation.\n",
      "  merged_df = pd.concat([pd.read_excel(new_excel_file, sheet_name=sheet_name)[columns] for sheet_name in created_sheets if sheet_name.endswith(suffix)])\n",
      "C:\\Users\\Mohammad Soban\\AppData\\Local\\Temp\\ipykernel_19608\\4230829842.py:26: FutureWarning: The behavior of DataFrame concatenation with empty or all-NA entries is deprecated. In a future version, this will no longer exclude empty or all-NA columns when determining the result dtypes. To retain the old behavior, exclude the relevant entries before the concat operation.\n",
      "  merged_df = pd.concat([pd.read_excel(new_excel_file, sheet_name=sheet_name)[columns] for sheet_name in created_sheets if sheet_name.endswith(suffix)])\n",
      "C:\\Users\\Mohammad Soban\\AppData\\Local\\Temp\\ipykernel_19608\\4230829842.py:26: FutureWarning: The behavior of DataFrame concatenation with empty or all-NA entries is deprecated. In a future version, this will no longer exclude empty or all-NA columns when determining the result dtypes. To retain the old behavior, exclude the relevant entries before the concat operation.\n",
      "  merged_df = pd.concat([pd.read_excel(new_excel_file, sheet_name=sheet_name)[columns] for sheet_name in created_sheets if sheet_name.endswith(suffix)])\n"
     ]
    }
   ],
   "source": [
    "# Assuming all_sheets and unique_values_2 are defined\n",
    "created_sheets = set()\n",
    "\n",
    "with pd.ExcelWriter(new_excel_file, engine='openpyxl') as writer:\n",
    "    for sheet_name, df in all_sheets.items():\n",
    "        \n",
    "        # Check if 'Transcribed By' column exists in the DataFrame\n",
    "        if 'Transcribed By' in df.columns:\n",
    "            for value in unique_values_2:\n",
    "                # Ensure that 'Transcribed By' values are strings\n",
    "                df['Transcribed By'] = df['Transcribed By'].astype(str)\n",
    "\n",
    "                # Filter rows based on string values in 'Transcribed By' column\n",
    "                filtered_rows = df[df['Transcribed By'].str.startswith(value)]\n",
    "                sheet_name_to_create = f'{sheet_name}_{value}'\n",
    "                filtered_rows.to_excel(writer, sheet_name=sheet_name_to_create, index=False)\n",
    "                created_sheets.add(sheet_name_to_create)\n",
    "        else:\n",
    "            print(f\"Skipping sheet '{sheet_name}' due to missing 'Transcribed By' column.\")\n",
    "\n",
    "# Create a new workbook for merging similar sheets\n",
    "merged_excel_file = './August_2024/august_MT.xls'\n",
    "with pd.ExcelWriter(merged_excel_file, engine='openpyxl') as writer:\n",
    "    for suffix in set(sheet_name[-2:] for sheet_name in created_sheets):\n",
    "        # Concatenate only the specified columns\n",
    "        merged_df = pd.concat([pd.read_excel(new_excel_file, sheet_name=sheet_name)[columns] for sheet_name in created_sheets if sheet_name.endswith(suffix)])\n",
    "\n",
    "        # Format date columns\n",
    "        for date_column in [\"DOB\", \"Date on FTP\", \"Download Date\", \"DOS\", \"Transcribe Date\"]:\n",
    "            merged_df[date_column] = pd.to_datetime(merged_df[date_column], errors='coerce').dt.strftime('%m/%d/%Y')\n",
    "\n",
    "        # Calculate the total line count\n",
    "        total_line_count = merged_df[\"Line Count\"].sum()\n",
    "\n",
    "        # Create a new DataFrame for the total line count\n",
    "        total_row = pd.DataFrame({\"Line Count\": [total_line_count]})\n",
    "\n",
    "        # Concatenate the total row with the merged DataFrame\n",
    "        merged_df = pd.concat([merged_df, total_row])\n",
    "\n",
    "        # Write the DataFrame to the Excel file\n",
    "        merged_df.to_excel(writer, sheet_name=suffix, index=False, header=columns)"
   ]
  },
  {
   "cell_type": "code",
   "execution_count": null,
   "metadata": {},
   "outputs": [],
   "source": []
  },
  {
   "cell_type": "code",
   "execution_count": null,
   "metadata": {},
   "outputs": [],
   "source": []
  },
  {
   "cell_type": "code",
   "execution_count": null,
   "metadata": {},
   "outputs": [],
   "source": []
  },
  {
   "cell_type": "markdown",
   "metadata": {},
   "source": [
    "Subject: Appreciation for Your Support During My Hopsitalization\n"
   ]
  }
 ],
 "metadata": {
  "kernelspec": {
   "display_name": "Python 3",
   "language": "python",
   "name": "python3"
  },
  "language_info": {
   "codemirror_mode": {
    "name": "ipython",
    "version": 3
   },
   "file_extension": ".py",
   "mimetype": "text/x-python",
   "name": "python",
   "nbconvert_exporter": "python",
   "pygments_lexer": "ipython3",
   "version": "3.10.6"
  }
 },
 "nbformat": 4,
 "nbformat_minor": 2
}
