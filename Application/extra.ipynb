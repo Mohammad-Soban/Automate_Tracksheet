{
 "cells": [
  {
   "cell_type": "code",
   "execution_count": null,
   "metadata": {
    "vscode": {
     "languageId": "plaintext"
    }
   },
   "outputs": [],
   "source": [
    "import pandas as pd\n",
    "import numpy as np\n",
    "\n",
    "def client_Invoice(file1):\n",
    "    msg = []\n",
    "    file2 = \"Client_Invoice.xls\"\n",
    "    selected_columns = ['VoiceFile Name', 'Document Name', 'Doctor', 'DOS', 'Line Count', 'Remarks']\n",
    "\n",
    "    # Read all sheets into a dictionary\n",
    "    all_sheets = pd.read_excel(file1, sheet_name=None)\n",
    "\n",
    "    # Create a new Excel writer\n",
    "    with pd.ExcelWriter(file2, engine='xlsxwriter') as writer:\n",
    "        # Iterate through each sheet\n",
    "        # Iterate through each sheet\n",
    "        for sheet_name, df in all_sheets.items():\n",
    "            # Check if 'Line Count' column exists in the DataFrame\n",
    "            if 'Line Count' in df.columns:\n",
    "                #F ind the sum of the column 'Line Count' for each sheet and append it to column 'Line Count' in the sheet at the end\n",
    "                df.loc['Total'] = pd.Series(df['Line Count'].sum(), index=['Line Count'])\n",
    "\n",
    "                # Ensure all selected columns are present in the DataFrame\n",
    "                if all(col in df.columns for col in selected_columns):\n",
    "                    # Handle invalid date formats\n",
    "                    try:\n",
    "                        # Replace invalid date values with NaN\n",
    "                        df['DOS'] = pd.to_datetime(df['DOS'], errors='coerce').dt.strftime('%m/%d/%Y')\n",
    "                        # Making the Line Count column round off to 2 decimal places\n",
    "                    except pd.errors.ParserError as e:\n",
    "                        msg.append(f\"Skipping sheet '{sheet_name}' due to {e}\")\n",
    "\n",
    "                    # Select only the desired columns\n",
    "                    selected_df = df[selected_columns]\n",
    "\n",
    "                    # Write the selected DataFrame to the new workbook\n",
    "                    selected_df.to_excel(writer, sheet_name=sheet_name, index=False)\n",
    "                else:\n",
    "                    msg.append(f\"Skipping sheet '{sheet_name}' due to missing columns.\")\n",
    "            else:\n",
    "                msg.append(f\"Skipping sheet '{sheet_name}' due to missing 'Line Count' column.\")\n",
    "\n",
    "file1 = '../October/october.xls'\n"
   ]
  }
 ],
 "metadata": {
  "language_info": {
   "name": "python"
  }
 },
 "nbformat": 4,
 "nbformat_minor": 2
}
