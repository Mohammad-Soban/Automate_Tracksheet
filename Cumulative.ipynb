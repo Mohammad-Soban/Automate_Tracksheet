{
 "cells": [
  {
   "cell_type": "code",
   "execution_count": 1,
   "metadata": {},
   "outputs": [],
   "source": [
    "import pandas as pd\n",
    "import numpy as np\n",
    "import xlwt\n",
    "import xlrd"
   ]
  },
  {
   "cell_type": "code",
   "execution_count": 3,
   "metadata": {},
   "outputs": [
    {
     "name": "stderr",
     "output_type": "stream",
     "text": [
      "C:\\Users\\Mohammad Soban\\AppData\\Local\\Temp\\ipykernel_13456\\905712978.py:39: FutureWarning: The behavior of DataFrame concatenation with empty or all-NA entries is deprecated. In a future version, this will no longer exclude empty or all-NA columns when determining the result dtypes. To retain the old behavior, exclude the relevant entries before the concat operation.\n",
      "  summary_df = pd.concat([\n"
     ]
    }
   ],
   "source": [
    "import pandas as pd\n",
    "import os\n",
    "\n",
    "# Source workbooks\n",
    "source_workbook_paths = [\n",
    "    './Tracksheet/May_Client_Invoice.xls',\n",
    "    './Tracksheet/May_MT_Incentives.xls',\n",
    "    './Tracksheet/May_Middle2.xls'\n",
    "]\n",
    "\n",
    "# Destination workbook\n",
    "destination_workbook_path = './Tracksheet/May_Cumulative.xls'\n",
    "\n",
    "# Create an empty DataFrame to store the results\n",
    "summary_df = pd.DataFrame(columns=['Sheet Name', 'Total Line Count'])\n",
    "\n",
    "# Iterate through each source workbook\n",
    "# Iterate through each source workbook\n",
    "for source_workbook_path in source_workbook_paths:\n",
    "    # Check if the file exists\n",
    "    if not os.path.exists(source_workbook_path):\n",
    "        print(f\"File not found: {source_workbook_path}\")\n",
    "        continue\n",
    "\n",
    "    # Read the source workbook\n",
    "    xl = pd.ExcelFile(source_workbook_path)\n",
    "\n",
    "    # Iterate through each sheet in the source workbook\n",
    "    for sheet_name in xl.sheet_names:\n",
    "        # Read the sheet\n",
    "        df = pd.read_excel(source_workbook_path, sheet_name)\n",
    "\n",
    "        # Check if the DataFrame has any rows\n",
    "        if not df.empty:\n",
    "            # Extract the last value of the \"Line Count\" column\n",
    "            total_Line_Count = df['Line Count'].iloc[-1]\n",
    "\n",
    "            # Append the result to the summary DataFrame\n",
    "            summary_df = pd.concat([\n",
    "                summary_df,\n",
    "                pd.DataFrame({'Sheet Name': [sheet_name], 'Total Line Count': [total_Line_Count]})\n",
    "            ], ignore_index=True)\n",
    "        else:\n",
    "            print(f\"Skipping sheet '{sheet_name}' in '{source_workbook_path}' due to empty DataFrame.\")"
   ]
  },
  {
   "cell_type": "code",
   "execution_count": 4,
   "metadata": {},
   "outputs": [
    {
     "ename": "AttributeError",
     "evalue": "'DataFrame' object has no attribute 'append'",
     "output_type": "error",
     "traceback": [
      "\u001b[1;31m---------------------------------------------------------------------------\u001b[0m",
      "\u001b[1;31mAttributeError\u001b[0m                            Traceback (most recent call last)",
      "\u001b[1;32m~\\AppData\\Local\\Temp\\ipykernel_13456\\1587951462.py\u001b[0m in \u001b[0;36m?\u001b[1;34m()\u001b[0m\n\u001b[0;32m      6\u001b[0m         \u001b[0mmiddle_df\u001b[0m \u001b[1;33m=\u001b[0m \u001b[0mpd\u001b[0m\u001b[1;33m.\u001b[0m\u001b[0mread_excel\u001b[0m\u001b[1;33m(\u001b[0m\u001b[0mmiddle_workbook_path\u001b[0m\u001b[1;33m,\u001b[0m \u001b[0msheet_name\u001b[0m\u001b[1;33m=\u001b[0m\u001b[0mmiddle_sheet_name\u001b[0m\u001b[1;33m)\u001b[0m\u001b[1;33m\u001b[0m\u001b[1;33m\u001b[0m\u001b[0m\n\u001b[0;32m      7\u001b[0m         \u001b[0mtotal_line_count_middle\u001b[0m \u001b[1;33m=\u001b[0m \u001b[0mmiddle_df\u001b[0m\u001b[1;33m[\u001b[0m\u001b[1;34m'Line Count'\u001b[0m\u001b[1;33m]\u001b[0m\u001b[1;33m.\u001b[0m\u001b[0msum\u001b[0m\u001b[1;33m(\u001b[0m\u001b[1;33m)\u001b[0m\u001b[1;33m\u001b[0m\u001b[1;33m\u001b[0m\u001b[0m\n\u001b[0;32m      8\u001b[0m         \u001b[1;31m# Append method does not work with the sum of the line count for each sheet in 'middle.xls'\u001b[0m\u001b[1;33m\u001b[0m\u001b[1;33m\u001b[0m\u001b[0m\n\u001b[0;32m      9\u001b[0m         \u001b[1;31m# Replace the append method with the concat method\u001b[0m\u001b[1;33m\u001b[0m\u001b[1;33m\u001b[0m\u001b[0m\n\u001b[1;32m---> 10\u001b[1;33m         summary_df = summary_df.append({\n\u001b[0m\u001b[0;32m     11\u001b[0m             \u001b[1;34m'Sheet Name'\u001b[0m\u001b[1;33m:\u001b[0m \u001b[0mmiddle_sheet_name\u001b[0m\u001b[1;33m,\u001b[0m\u001b[1;33m\u001b[0m\u001b[1;33m\u001b[0m\u001b[0m\n\u001b[0;32m     12\u001b[0m             \u001b[1;34m'Total Line Count'\u001b[0m\u001b[1;33m:\u001b[0m \u001b[0mtotal_line_count_middle\u001b[0m\u001b[1;33m\u001b[0m\u001b[1;33m\u001b[0m\u001b[0m\n\u001b[0;32m     13\u001b[0m         }, ignore_index=True)\n",
      "\u001b[1;32mc:\\Python_3.10.2\\lib\\site-packages\\pandas\\core\\generic.py\u001b[0m in \u001b[0;36m?\u001b[1;34m(self, name)\u001b[0m\n\u001b[0;32m   6292\u001b[0m             \u001b[1;32mand\u001b[0m \u001b[0mname\u001b[0m \u001b[1;32mnot\u001b[0m \u001b[1;32min\u001b[0m \u001b[0mself\u001b[0m\u001b[1;33m.\u001b[0m\u001b[0m_accessors\u001b[0m\u001b[1;33m\u001b[0m\u001b[1;33m\u001b[0m\u001b[0m\n\u001b[0;32m   6293\u001b[0m             \u001b[1;32mand\u001b[0m \u001b[0mself\u001b[0m\u001b[1;33m.\u001b[0m\u001b[0m_info_axis\u001b[0m\u001b[1;33m.\u001b[0m\u001b[0m_can_hold_identifiers_and_holds_name\u001b[0m\u001b[1;33m(\u001b[0m\u001b[0mname\u001b[0m\u001b[1;33m)\u001b[0m\u001b[1;33m\u001b[0m\u001b[1;33m\u001b[0m\u001b[0m\n\u001b[0;32m   6294\u001b[0m         ):\n\u001b[0;32m   6295\u001b[0m             \u001b[1;32mreturn\u001b[0m \u001b[0mself\u001b[0m\u001b[1;33m[\u001b[0m\u001b[0mname\u001b[0m\u001b[1;33m]\u001b[0m\u001b[1;33m\u001b[0m\u001b[1;33m\u001b[0m\u001b[0m\n\u001b[1;32m-> 6296\u001b[1;33m         \u001b[1;32mreturn\u001b[0m \u001b[0mobject\u001b[0m\u001b[1;33m.\u001b[0m\u001b[0m__getattribute__\u001b[0m\u001b[1;33m(\u001b[0m\u001b[0mself\u001b[0m\u001b[1;33m,\u001b[0m \u001b[0mname\u001b[0m\u001b[1;33m)\u001b[0m\u001b[1;33m\u001b[0m\u001b[1;33m\u001b[0m\u001b[0m\n\u001b[0m",
      "\u001b[1;31mAttributeError\u001b[0m: 'DataFrame' object has no attribute 'append'"
     ]
    }
   ],
   "source": [
    "\n",
    "# Calculate and append the sum of \"Line Count\" for each sheet in 'middle.xls'\n",
    "middle_workbook_path = './Tracksheet/May_Middle.xls'\n",
    "if os.path.exists(middle_workbook_path):\n",
    "    middle_xl = pd.ExcelFile(middle_workbook_path)\n",
    "    for middle_sheet_name in middle_xl.sheet_names:\n",
    "        middle_df = pd.read_excel(middle_workbook_path, sheet_name=middle_sheet_name)\n",
    "        total_line_count_middle = middle_df['Line Count'].sum()\n",
    "        # Append method does not work with the sum of the line count for each sheet in 'middle.xls'\n",
    "        # Replace the append method with the concat method\n",
    "        summary_df = summary_df.append({\n",
    "            'Sheet Name': middle_sheet_name,\n",
    "            'Total Line Count': total_line_count_middle\n",
    "        }, ignore_index=True)\n",
    "\n",
    "# Create a new workbook and write the summary DataFrame to a sheets\n",
    "with pd.ExcelWriter(destination_workbook_path, engine='xlsxwriter') as writer:\n",
    "    summary_df.to_excel(writer, sheet_name='Summary', index=False, header=True)"
   ]
  },
  {
   "cell_type": "code",
   "execution_count": 8,
   "metadata": {},
   "outputs": [
    {
     "data": {
      "text/plain": [
       "5"
      ]
     },
     "execution_count": 8,
     "metadata": {},
     "output_type": "execute_result"
    }
   ],
   "source": [
    "s = \"HelloMan\"\n",
    "s.index(\"M\")"
   ]
  },
  {
   "cell_type": "code",
   "execution_count": null,
   "metadata": {},
   "outputs": [],
   "source": []
  }
 ],
 "metadata": {
  "kernelspec": {
   "display_name": "Python 3",
   "language": "python",
   "name": "python3"
  },
  "language_info": {
   "codemirror_mode": {
    "name": "ipython",
    "version": 3
   },
   "file_extension": ".py",
   "mimetype": "text/x-python",
   "name": "python",
   "nbconvert_exporter": "python",
   "pygments_lexer": "ipython3",
   "version": "3.10.6"
  }
 },
 "nbformat": 4,
 "nbformat_minor": 2
}
