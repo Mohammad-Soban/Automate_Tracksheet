{
 "cells": [
  {
   "cell_type": "code",
   "execution_count": 1,
   "metadata": {},
   "outputs": [
    {
     "name": "stdout",
     "output_type": "stream",
     "text": [
      "Collecting xlutils\n",
      "  Downloading xlutils-2.0.0-py2.py3-none-any.whl (55 kB)\n",
      "     ---------------------------------------- 0.0/55.1 kB ? eta -:--:--\n",
      "     ---------------------------------------- 55.1/55.1 kB 1.4 MB/s eta 0:00:00\n",
      "Requirement already satisfied: xlrd>=0.7.2 in c:\\python_3.10.2\\lib\\site-packages (from xlutils) (2.0.1)\n",
      "Requirement already satisfied: xlwt>=0.7.4 in c:\\python_3.10.2\\lib\\site-packages (from xlutils) (1.3.0)\n",
      "Installing collected packages: xlutils\n",
      "Successfully installed xlutils-2.0.0\n"
     ]
    },
    {
     "name": "stderr",
     "output_type": "stream",
     "text": [
      "\n",
      "[notice] A new release of pip is available: 23.3.1 -> 23.3.2\n",
      "[notice] To update, run: python.exe -m pip install --upgrade pip\n"
     ]
    }
   ],
   "source": [
    "!pip install xlutils"
   ]
  },
  {
   "cell_type": "code",
   "execution_count": 1,
   "metadata": {},
   "outputs": [],
   "source": [
    "import pandas as pd\n",
    "import xlwt, xlrd\n",
    "from xlutils.copy import copy\n",
    "import os\n",
    "\n",
    "original_excel_file = \"./Tracksheet/May_Middle.xls\"\n",
    "\n",
    "new_excel_file = \"./Tracksheet/May_Middle2.xls\""
   ]
  },
  {
   "cell_type": "code",
   "execution_count": 2,
   "metadata": {},
   "outputs": [
    {
     "name": "stderr",
     "output_type": "stream",
     "text": [
      "C:\\Users\\Mohammad Soban\\AppData\\Local\\Temp\\ipykernel_1276\\1307183231.py:13: FutureWarning: The behavior of DataFrame concatenation with empty or all-NA entries is deprecated. In a future version, this will no longer exclude empty or all-NA columns when determining the result dtypes. To retain the old behavior, exclude the relevant entries before the concat operation.\n",
      "  df.loc['Total'] = pd.Series(df['Line Count'].sum(), index=['Line Count'])\n",
      "C:\\Users\\Mohammad Soban\\AppData\\Local\\Temp\\ipykernel_1276\\1307183231.py:13: FutureWarning: The behavior of DataFrame concatenation with empty or all-NA entries is deprecated. In a future version, this will no longer exclude empty or all-NA columns when determining the result dtypes. To retain the old behavior, exclude the relevant entries before the concat operation.\n",
      "  df.loc['Total'] = pd.Series(df['Line Count'].sum(), index=['Line Count'])\n",
      "C:\\Users\\Mohammad Soban\\AppData\\Local\\Temp\\ipykernel_1276\\1307183231.py:13: FutureWarning: The behavior of DataFrame concatenation with empty or all-NA entries is deprecated. In a future version, this will no longer exclude empty or all-NA columns when determining the result dtypes. To retain the old behavior, exclude the relevant entries before the concat operation.\n",
      "  df.loc['Total'] = pd.Series(df['Line Count'].sum(), index=['Line Count'])\n",
      "C:\\Users\\Mohammad Soban\\AppData\\Local\\Temp\\ipykernel_1276\\1307183231.py:13: FutureWarning: The behavior of DataFrame concatenation with empty or all-NA entries is deprecated. In a future version, this will no longer exclude empty or all-NA columns when determining the result dtypes. To retain the old behavior, exclude the relevant entries before the concat operation.\n",
      "  df.loc['Total'] = pd.Series(df['Line Count'].sum(), index=['Line Count'])\n",
      "C:\\Users\\Mohammad Soban\\AppData\\Local\\Temp\\ipykernel_1276\\1307183231.py:13: FutureWarning: The behavior of DataFrame concatenation with empty or all-NA entries is deprecated. In a future version, this will no longer exclude empty or all-NA columns when determining the result dtypes. To retain the old behavior, exclude the relevant entries before the concat operation.\n",
      "  df.loc['Total'] = pd.Series(df['Line Count'].sum(), index=['Line Count'])\n",
      "C:\\Users\\Mohammad Soban\\AppData\\Local\\Temp\\ipykernel_1276\\1307183231.py:13: FutureWarning: The behavior of DataFrame concatenation with empty or all-NA entries is deprecated. In a future version, this will no longer exclude empty or all-NA columns when determining the result dtypes. To retain the old behavior, exclude the relevant entries before the concat operation.\n",
      "  df.loc['Total'] = pd.Series(df['Line Count'].sum(), index=['Line Count'])\n",
      "C:\\Users\\Mohammad Soban\\AppData\\Local\\Temp\\ipykernel_1276\\1307183231.py:13: FutureWarning: The behavior of DataFrame concatenation with empty or all-NA entries is deprecated. In a future version, this will no longer exclude empty or all-NA columns when determining the result dtypes. To retain the old behavior, exclude the relevant entries before the concat operation.\n",
      "  df.loc['Total'] = pd.Series(df['Line Count'].sum(), index=['Line Count'])\n",
      "C:\\Users\\Mohammad Soban\\AppData\\Local\\Temp\\ipykernel_1276\\1307183231.py:13: FutureWarning: The behavior of DataFrame concatenation with empty or all-NA entries is deprecated. In a future version, this will no longer exclude empty or all-NA columns when determining the result dtypes. To retain the old behavior, exclude the relevant entries before the concat operation.\n",
      "  df.loc['Total'] = pd.Series(df['Line Count'].sum(), index=['Line Count'])\n",
      "C:\\Users\\Mohammad Soban\\AppData\\Local\\Temp\\ipykernel_1276\\1307183231.py:13: FutureWarning: The behavior of DataFrame concatenation with empty or all-NA entries is deprecated. In a future version, this will no longer exclude empty or all-NA columns when determining the result dtypes. To retain the old behavior, exclude the relevant entries before the concat operation.\n",
      "  df.loc['Total'] = pd.Series(df['Line Count'].sum(), index=['Line Count'])\n",
      "C:\\Users\\Mohammad Soban\\AppData\\Local\\Temp\\ipykernel_1276\\1307183231.py:13: FutureWarning: The behavior of DataFrame concatenation with empty or all-NA entries is deprecated. In a future version, this will no longer exclude empty or all-NA columns when determining the result dtypes. To retain the old behavior, exclude the relevant entries before the concat operation.\n",
      "  df.loc['Total'] = pd.Series(df['Line Count'].sum(), index=['Line Count'])\n",
      "C:\\Users\\Mohammad Soban\\AppData\\Local\\Temp\\ipykernel_1276\\1307183231.py:13: FutureWarning: The behavior of DataFrame concatenation with empty or all-NA entries is deprecated. In a future version, this will no longer exclude empty or all-NA columns when determining the result dtypes. To retain the old behavior, exclude the relevant entries before the concat operation.\n",
      "  df.loc['Total'] = pd.Series(df['Line Count'].sum(), index=['Line Count'])\n",
      "C:\\Users\\Mohammad Soban\\AppData\\Local\\Temp\\ipykernel_1276\\1307183231.py:13: FutureWarning: The behavior of DataFrame concatenation with empty or all-NA entries is deprecated. In a future version, this will no longer exclude empty or all-NA columns when determining the result dtypes. To retain the old behavior, exclude the relevant entries before the concat operation.\n",
      "  df.loc['Total'] = pd.Series(df['Line Count'].sum(), index=['Line Count'])\n",
      "C:\\Users\\Mohammad Soban\\AppData\\Local\\Temp\\ipykernel_1276\\1307183231.py:13: FutureWarning: The behavior of DataFrame concatenation with empty or all-NA entries is deprecated. In a future version, this will no longer exclude empty or all-NA columns when determining the result dtypes. To retain the old behavior, exclude the relevant entries before the concat operation.\n",
      "  df.loc['Total'] = pd.Series(df['Line Count'].sum(), index=['Line Count'])\n",
      "C:\\Users\\Mohammad Soban\\AppData\\Local\\Temp\\ipykernel_1276\\1307183231.py:13: FutureWarning: The behavior of DataFrame concatenation with empty or all-NA entries is deprecated. In a future version, this will no longer exclude empty or all-NA columns when determining the result dtypes. To retain the old behavior, exclude the relevant entries before the concat operation.\n",
      "  df.loc['Total'] = pd.Series(df['Line Count'].sum(), index=['Line Count'])\n",
      "C:\\Users\\Mohammad Soban\\AppData\\Local\\Temp\\ipykernel_1276\\1307183231.py:13: FutureWarning: The behavior of DataFrame concatenation with empty or all-NA entries is deprecated. In a future version, this will no longer exclude empty or all-NA columns when determining the result dtypes. To retain the old behavior, exclude the relevant entries before the concat operation.\n",
      "  df.loc['Total'] = pd.Series(df['Line Count'].sum(), index=['Line Count'])\n"
     ]
    }
   ],
   "source": [
    "# List of selected columns you want to keep\n",
    "selected_columns = ['VoiceFile Name', 'Document Name', 'Doctor', 'Line Count']\n",
    "\n",
    "# Read all sheets into a dictionary\n",
    "all_sheets = pd.read_excel(original_excel_file, sheet_name=None)\n",
    "\n",
    "# Create a new Excel writer\n",
    "with pd.ExcelWriter(new_excel_file, engine='xlsxwriter') as writer:\n",
    "    for sheet_name, df in all_sheets.items():\n",
    "        # Check if 'Line Count' column exists in the DataFrame\n",
    "        if 'Line Count' in df.columns:\n",
    "            #F ind the sum of the column 'Line Count' for each sheet and append it to column 'Line Count' in the sheet at the end\n",
    "            df.loc['Total'] = pd.Series(df['Line Count'].sum(), index=['Line Count'])\n",
    "\n",
    "            # Ensure all selected columns are present in the DataFrame\n",
    "            if all(col in df.columns for col in selected_columns):\n",
    "                selected_df = df[selected_columns]\n",
    "\n",
    "                # Write the selected DataFrame to the new workbook\n",
    "                selected_df.to_excel(writer, sheet_name=sheet_name, index=False)\n",
    "            else:\n",
    "                print(f\"Skipping sheet '{sheet_name}' due to missing columns.\")\n",
    "        else:\n",
    "            print(f\"Skipping sheet '{sheet_name}' due to missing 'Line Count' column.\")"
   ]
  },
  {
   "cell_type": "code",
   "execution_count": null,
   "metadata": {},
   "outputs": [],
   "source": []
  }
 ],
 "metadata": {
  "kernelspec": {
   "display_name": "Python 3",
   "language": "python",
   "name": "python3"
  },
  "language_info": {
   "codemirror_mode": {
    "name": "ipython",
    "version": 3
   },
   "file_extension": ".py",
   "mimetype": "text/x-python",
   "name": "python",
   "nbconvert_exporter": "python",
   "pygments_lexer": "ipython3",
   "version": "3.10.6"
  }
 },
 "nbformat": 4,
 "nbformat_minor": 2
}
